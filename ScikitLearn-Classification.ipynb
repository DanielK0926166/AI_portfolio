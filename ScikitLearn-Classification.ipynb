{
 "cells": [
  {
   "cell_type": "markdown",
   "metadata": {},
   "source": [
    "<center><b>Scikit Learn - Classification</b></center><br>\n",
    "\n",
    "The code below demonstrates usage of the Scikit Learn library.\n",
    "It compares the results obtained on the classification data using different methods:\n",
    "\n",
    "- KNeighborsClassifier\n",
    "- DecisionTreeClassifier\n",
    "- GaussianNB\n",
    "- SVC"
   ]
  },
  {
   "cell_type": "code",
   "execution_count": 1,
   "metadata": {},
   "outputs": [],
   "source": [
    "import numpy as np\n",
    "\n",
    "from sklearn import preprocessing\n",
    "from sklearn.neighbors import KNeighborsClassifier\n",
    "from sklearn.tree import DecisionTreeClassifier\n",
    "from sklearn.naive_bayes import GaussianNB\n",
    "from sklearn.svm import SVC"
   ]
  },
  {
   "cell_type": "code",
   "execution_count": 2,
   "metadata": {},
   "outputs": [],
   "source": [
    "all_training_data = np.genfromtxt('data/ScikitLearn/classificationData/trainingData.csv', delimiter=',')\n",
    "all_test_data     = np.genfromtxt('data/ScikitLearn/classificationData/testData.csv', delimiter=',')\n",
    "\n",
    "# separate the label from the data. Last column is the label\n",
    "training_X = all_training_data[:,:-1]\n",
    "training_Y = all_training_data[:,-1]\n",
    "test_X = all_test_data[:,:-1]\n",
    "test_Y = all_test_data[:,-1]\n"
   ]
  },
  {
   "cell_type": "code",
   "execution_count": 3,
   "metadata": {},
   "outputs": [
    {
     "name": "stdout",
     "output_type": "stream",
     "text": [
      "KNeighborsClassifier score: 0.703125\n"
     ]
    }
   ],
   "source": [
    "# KNN classifier\n",
    "classifier = KNeighborsClassifier(n_neighbors=9, p=2, metric='minkowski', weights='distance', algorithm='brute')\n",
    "classifier.fit(training_X, training_Y)\n",
    "\n",
    "print(\"KNeighborsClassifier score: {}\".format(classifier.score(test_X, test_Y)))\n"
   ]
  },
  {
   "cell_type": "code",
   "execution_count": 4,
   "metadata": {},
   "outputs": [
    {
     "name": "stdout",
     "output_type": "stream",
     "text": [
      "DecisionTreeClassifier score: 0.71875\n"
     ]
    }
   ],
   "source": [
    "decisionTree = DecisionTreeClassifier(random_state=0)\n",
    "decisionTree.fit(training_X,training_Y)\n",
    "\n",
    "print(\"DecisionTreeClassifier score: {}\".format(decisionTree.score(test_X, test_Y)))\n"
   ]
  },
  {
   "cell_type": "code",
   "execution_count": 5,
   "metadata": {},
   "outputs": [
    {
     "name": "stdout",
     "output_type": "stream",
     "text": [
      "GaussianNB score: 0.734375\n"
     ]
    }
   ],
   "source": [
    "gaussianNb = GaussianNB()\n",
    "gaussianNb.fit(training_X,training_Y)\n",
    "\n",
    "print(\"GaussianNB score: {}\".format(gaussianNb.score(test_X, test_Y)))\n"
   ]
  },
  {
   "cell_type": "code",
   "execution_count": 6,
   "metadata": {},
   "outputs": [
    {
     "name": "stdout",
     "output_type": "stream",
     "text": [
      "GaussianNB score: 0.703125\n"
     ]
    }
   ],
   "source": [
    "svc = SVC(gamma='auto')\n",
    "svc.fit(training_X,training_Y)\n",
    "\n",
    "print(\"GaussianNB score: {}\".format(svc.score(test_X, test_Y)))\n"
   ]
  }
 ],
 "metadata": {
  "kernelspec": {
   "display_name": "Python 3",
   "language": "python",
   "name": "python3"
  },
  "language_info": {
   "codemirror_mode": {
    "name": "ipython",
    "version": 3
   },
   "file_extension": ".py",
   "mimetype": "text/x-python",
   "name": "python",
   "nbconvert_exporter": "python",
   "pygments_lexer": "ipython3",
   "version": "3.7.4"
  }
 },
 "nbformat": 4,
 "nbformat_minor": 2
}
