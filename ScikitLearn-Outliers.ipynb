{
 "cells": [
  {
   "cell_type": "markdown",
   "metadata": {},
   "source": [
    "<center><b>Scikit Learn - Regression with Outliers</b></center><br>\n",
    "\n",
    "The code below demonstrates usage of the Scikit Learn library on a regression problem with outliers.\n",
    "\n",
    "I have implemented the DecisionTreeRegressor and KNeighborsRegressor before and after the outliers have been removed to demonstrate the affects outliers have on the algorithm.\n",
    "I have visualised the outliers using boxplot for each feature"
   ]
  },
  {
   "cell_type": "code",
   "execution_count": 1,
   "metadata": {},
   "outputs": [],
   "source": [
    "import numpy as np\n",
    "import seaborn as sns\n",
    "\n",
    "from sklearn.neighbors import KNeighborsRegressor\n",
    "from sklearn.tree import DecisionTreeRegressor\n",
    "from sklearn.metrics import r2_score\n",
    "from scipy import stats"
   ]
  },
  {
   "cell_type": "code",
   "execution_count": 2,
   "metadata": {},
   "outputs": [],
   "source": [
    "all_training_data = np.genfromtxt('data/ScikitLearn/outlierData/trainDataO.csv', delimiter=',')\n",
    "all_test_data     = np.genfromtxt('data/ScikitLearn/outlierData/test.csv', delimiter=',')\n",
    "\n",
    "# separate the label from the data. Last column is the label\n",
    "training_X = all_training_data[:,:-1]\n",
    "training_Y = all_training_data[:,-1]\n",
    "test_X = all_test_data[:,:-1]\n",
    "test_Y = all_test_data[:,-1]\n"
   ]
  },
  {
   "cell_type": "code",
   "execution_count": 3,
   "metadata": {},
   "outputs": [
    {
     "name": "stdout",
     "output_type": "stream",
     "text": [
      "R2 score for DecisionTreeClassifier is: 0.6056056814899182\n"
     ]
    }
   ],
   "source": [
    "# Check the R2 Score before the outliers are removed\n",
    "\n",
    "decisionTree = DecisionTreeRegressor(random_state=0)\n",
    "decisionTree.fit(training_X,training_Y)\n",
    "\n",
    "y_pred = decisionTree.predict(test_X)\n",
    "r2Score = r2_score(test_Y, y_pred)\n",
    "print(\"R2 score for DecisionTreeClassifier is: {}\".format(r2Score))\n"
   ]
  },
  {
   "cell_type": "code",
   "execution_count": 4,
   "metadata": {},
   "outputs": [
    {
     "name": "stdout",
     "output_type": "stream",
     "text": [
      "R2 score for KNeighborsRegressor is: 0.8725235124812014\n"
     ]
    }
   ],
   "source": [
    "# Check the R2 Score of KNeighborsRegressor before the outliers are removed \n",
    "\n",
    "knnRegressor = KNeighborsRegressor(n_neighbors=10)\n",
    "knnRegressor.fit(training_X, training_Y)\n",
    "\n",
    "y_pred = knnRegressor.predict(test_X)\n",
    "r2Score = r2_score(test_Y, y_pred)\n",
    "print(\"R2 score for KNeighborsRegressor is: {}\".format(r2Score))"
   ]
  },
  {
   "cell_type": "code",
   "execution_count": 5,
   "metadata": {},
   "outputs": [
    {
     "data": {
      "text/plain": [
       "<matplotlib.axes._subplots.AxesSubplot at 0x1a170a7940>"
      ]
     },
     "execution_count": 5,
     "metadata": {},
     "output_type": "execute_result"
    },
    {
     "data": {
      "image/png": "[encoded data removed]",
      "text/plain": [
       "<Figure size 432x288 with 1 Axes>"
      ]
     },
     "metadata": {
      "needs_background": "light"
     },
     "output_type": "display_data"
    }
   ],
   "source": [
    "# Univariate Outlier Detection\n",
    "# We check each features individually for outliers\n",
    "\n",
    "sns.boxplot(data=training_X)"
   ]
  },
  {
   "cell_type": "code",
   "execution_count": 6,
   "metadata": {},
   "outputs": [
    {
     "data": {
      "text/plain": [
       "<matplotlib.axes._subplots.AxesSubplot at 0x1a17297dd8>"
      ]
     },
     "execution_count": 6,
     "metadata": {},
     "output_type": "execute_result"
    },
    {
     "data": {
      "image/png": "[encoded data removed]",
      "text/plain": [
       "<Figure size 432x288 with 1 Axes>"
      ]
     },
     "metadata": {
      "needs_background": "light"
     },
     "output_type": "display_data"
    }
   ],
   "source": [
    "# removing the outlisers using zscore\n",
    "\n",
    "z = np.abs(stats.zscore(training_X))\n",
    "treshold = 3 # I've selected 3 manually based on the boxplot\n",
    "outlierRows = np.where(z>treshold)\n",
    "pruned_training_X = np.delete(training_X, outlierRows, 0)\n",
    "pruned_training_Y = np.delete(training_Y, outlierRows, 0)\n",
    "\n",
    "# show the new boxplot without the outliers\n",
    "sns.boxplot(data=pruned_training_X)"
   ]
  },
  {
   "cell_type": "code",
   "execution_count": 7,
   "metadata": {},
   "outputs": [
    {
     "name": "stdout",
     "output_type": "stream",
     "text": [
      "R2 score for DecisionTreeClassifier is: 0.6701384908960004\n"
     ]
    }
   ],
   "source": [
    "# Check the R2 Score after the outliers have been removed\n",
    "\n",
    "decisionTree = DecisionTreeRegressor(random_state=0)\n",
    "decisionTree.fit(pruned_training_X,pruned_training_Y)\n",
    "\n",
    "y_pred = decisionTree.predict(test_X)\n",
    "r2Score = r2_score(test_Y, y_pred)\n",
    "print(\"R2 score for DecisionTreeClassifier is: {}\".format(r2Score))"
   ]
  },
  {
   "cell_type": "code",
   "execution_count": 8,
   "metadata": {},
   "outputs": [
    {
     "name": "stdout",
     "output_type": "stream",
     "text": [
      "R2 score for KNeighborsRegressor is: 0.8722469041873714\n"
     ]
    }
   ],
   "source": [
    "# Check the R2 Score of KNeighborsRegressor after the outliers have been removed \n",
    "\n",
    "knnRegressor = KNeighborsRegressor(n_neighbors=10)\n",
    "knnRegressor.fit(pruned_training_X, pruned_training_Y)\n",
    "\n",
    "y_pred = knnRegressor.predict(test_X)\n",
    "r2Score = r2_score(test_Y, y_pred)\n",
    "print(\"R2 score for KNeighborsRegressor is: {}\".format(r2Score))"
   ]
  }
 ],
 "metadata": {
  "kernelspec": {
   "display_name": "Python 3",
   "language": "python",
   "name": "python3"
  },
  "language_info": {
   "codemirror_mode": {
    "name": "ipython",
    "version": 3
   },
   "file_extension": ".py",
   "mimetype": "text/x-python",
   "name": "python",
   "nbconvert_exporter": "python",
   "pygments_lexer": "ipython3",
   "version": "3.7.1"
  }
 },
 "nbformat": 4,
 "nbformat_minor": 2
}
