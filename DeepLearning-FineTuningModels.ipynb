{
 "cells": [
  {
   "cell_type": "markdown",
   "metadata": {},
   "source": [
    "<center><b>Deep Learning - Fine-Tuning Models</b></center><br>\n",
    "\n",
    "The code below uses a pre-trained VGG16 convolutional neural network to categhorize the image data. In the first step the dense layers are removed  and new dense layers are created. Also, the convolutional layers are set to be frozen so they can not be modified. <br>\n",
    "After training for several epochs, in the following step, some of the convolutional layers become unfrozen then being trained for further epochs. "
   ]
  },
  {
   "cell_type": "code",
   "execution_count": 14,
   "metadata": {
    "colab": {
     "base_uri": "https://localhost:8080/",
     "height": 207
    },
    "colab_type": "code",
    "id": "rOjZEP6aAvi3",
    "outputId": "5a1d532b-b98d-4776-dcd1-9cabd48abbf4"
   },
   "outputs": [
    {
     "name": "stdout",
     "output_type": "stream",
     "text": [
      "2.1.0\n"
     ]
    }
   ],
   "source": [
    "import os.path\n",
    "import h5py\n",
    "import numpy as np\n",
    "import matplotlib.pyplot as plt\n",
    "import tensorflow as tf\n",
    "from tensorflow import keras\n",
    "from keras.utils import np_utils\n",
    "print(tf.__version__)\n",
    "import zipfile"
   ]
  },
  {
   "cell_type": "code",
   "execution_count": 15,
   "metadata": {
    "colab": {
     "base_uri": "https://localhost:8080/",
     "height": 51
    },
    "colab_type": "code",
    "id": "FxuZfapoBBWs",
    "outputId": "20b7d6fe-6920-445a-b4f5-9902d81d35ab"
   },
   "outputs": [
    {
     "name": "stdout",
     "output_type": "stream",
     "text": [
      "(1020, 128, 128, 3) (1020,)\n",
      "(340, 128, 128, 3) (340,)\n"
     ]
    }
   ],
   "source": [
    "# Handle dataset\n",
    "FILE_PATH = os.getcwd()\n",
    "CACHE_PATH = FILE_PATH+\"/cached/deeplearning/\"\n",
    "data_file = FILE_PATH+\"/data/DeepLearning/conv_net_data.zip\"\n",
    "\n",
    "data = zipfile.ZipFile(data_file)\n",
    "data_file = data.open('data1.h5')\n",
    "\n",
    "def loadDataH5():\n",
    "    with h5py.File(data_file,'r') as hf:\n",
    "      trainX = np.array(hf.get('trainX'))\n",
    "      trainY = np.array(hf.get('trainY'))\n",
    "      valX = np.array(hf.get('valX'))\n",
    "      valY = np.array(hf.get('valY'))\n",
    "      print (trainX.shape,trainY.shape)\n",
    "      print (valX.shape,valY.shape)\n",
    "      return trainX, trainY, valX, valY \n",
    " \n",
    "trainX, trainY, testX, testY = loadDataH5() "
   ]
  },
  {
   "cell_type": "code",
   "execution_count": 16,
   "metadata": {
    "colab": {},
    "colab_type": "code",
    "id": "rAym_g3qBDfK"
   },
   "outputs": [],
   "source": [
    "IMG_DEPTH   = 3\n",
    "IMG_WIDTH   = 128\n",
    "IMG_HEIGHT  = 128\n",
    "NUM_CLASSES = 17\n",
    "\n",
    "NUM_EPOCHS  = 50"
   ]
  },
  {
   "cell_type": "code",
   "execution_count": 17,
   "metadata": {
    "colab": {},
    "colab_type": "code",
    "id": "E6sSBUYlBKet"
   },
   "outputs": [],
   "source": [
    "def plot_results(H, num_epochs):\n",
    "  # plot the training loss and accuracy\n",
    "  plt.style.use(\"ggplot\")\n",
    "  plt.figure()\n",
    "  plt.plot(np.arange(0, num_epochs), H.history[\"loss\"], label=\"train_loss\")\n",
    "  plt.plot(np.arange(0, num_epochs), H.history[\"val_loss\"], label=\"val_loss\")\n",
    "  plt.plot(np.arange(0, num_epochs), H.history[\"accuracy\"], label=\"train_acc\")\n",
    "  plt.plot(np.arange(0, num_epochs), H.history[\"val_accuracy\"], label=\"val_acc\")\n",
    "  plt.title(\"Training Loss and Accuracy\")\n",
    "  plt.xlabel(\"Epoch #\")\n",
    "  plt.ylabel(\"Loss/Accuracy\")\n",
    "  plt.legend()\n",
    "  plt.show()\n",
    "  pass"
   ]
  },
  {
   "cell_type": "code",
   "execution_count": 18,
   "metadata": {
    "colab": {},
    "colab_type": "code",
    "id": "FhLP3HR1s8ng"
   },
   "outputs": [],
   "source": [
    "DENSE_LR = 0.001\n",
    "CONV_LR  = 0.00001"
   ]
  },
  {
   "cell_type": "code",
   "execution_count": 19,
   "metadata": {
    "colab": {},
    "colab_type": "code",
    "id": "CeQ-vUh5Qnut"
   },
   "outputs": [],
   "source": [
    "def get_prediction_result(predicted_results, y_labels):\n",
    "    # Calculate Loss\n",
    "    y_labels_hot = np_utils.to_categorical(y_labels, NUM_CLASSES)\n",
    "    predicted_results_clipped = tf.clip_by_value(predicted_results, 1e-10, 1.0)\n",
    "    loss = (1.0/predicted_results_clipped.shape[0]) * tf.math.reduce_sum(-tf.math.multiply(tf.math.log(predicted_results_clipped),y_labels_hot))\n",
    "\n",
    "    # Calculate Accuracy\n",
    "    predicted_y = tf.math.argmax(predicted_results, 1)\n",
    "    match_array = tf.equal(predicted_y, y_labels)\n",
    "    accuracy = tf.reduce_sum(tf.cast(match_array, tf.float32)) / len(y_labels)\n",
    "\n",
    "    return (loss, accuracy)\n"
   ]
  },
  {
   "cell_type": "code",
   "execution_count": 20,
   "metadata": {
    "colab": {},
    "colab_type": "code",
    "id": "dgeE0mGAoRq3"
   },
   "outputs": [],
   "source": [
    "# Base class for implementing tuned CNN-s\n",
    "class CNN_tuned_base:\n",
    "  def __init__(self, try_to_load_weights=True, learning_rate=DENSE_LR):\n",
    "    # Initialise Variables\n",
    "    self.BATCH_SIZE = 16\n",
    "\n",
    "    self.optimiser = tf.keras.optimizers.RMSprop(lr=learning_rate)\n",
    "    # Initialise model\n",
    "    # create_model returns the conv model and the combined model separately. This makes it easier to unfreeze layers\n",
    "    self.conv_model, self.model = self.create_model(IMG_WIDTH, IMG_HEIGHT, IMG_DEPTH, NUM_CLASSES)\n",
    "    self.model.compile(loss='sparse_categorical_crossentropy', optimizer=self.optimiser, metrics=['accuracy'])\n",
    "\n",
    "    # Saved data file names\n",
    "    self.weights_file_name = \"{}{}_2.hdf5\".format(CACHE_PATH, self.get_name())\n",
    "    self.val_accuracy_file_name = \"{}{}_2_val_accuracy.txt\".format(CACHE_PATH, self.get_name())\n",
    "\n",
    "    # The current best val_loss\n",
    "    self.best_val_accuracy = 0.0\n",
    "\n",
    "    # If possible load the previous training results. Weights and assosiated val_loss\n",
    "    if try_to_load_weights and os.path.isfile(self.weights_file_name):\n",
    "      self.load_best_weights()\n",
    "\n",
    "  def load_best_val_accuracy_value(self):\n",
    "    \"\"\"\n",
    "    This function is used to load the validation accuracy of the best model.\n",
    "    It is stored in a txt file when the best model's weights were cached\n",
    "    \"\"\"\n",
    "    if os.path.isfile(self.val_accuracy_file_name):\n",
    "      loss_file = open(self.val_accuracy_file_name, \"r\")\n",
    "      self.best_val_accuracy = float(loss_file.read())\n",
    "      loss_file.close()\n",
    "      print(\"{} - Loaded best val_accuracy value: {:.4f} from: {}\".format(self.get_name(), self.best_val_accuracy, self.val_accuracy_file_name))\n",
    "\n",
    "\n",
    "  def save_weights_callback(self, logs):\n",
    "    \"\"\"\n",
    "    This is a custom callback function to be used to cache the weights of the network when val_accuracy increases\n",
    "    \"\"\"\n",
    "    val_loss = logs.get('val_accuracy')\n",
    "    if val_loss > self.best_val_accuracy:\n",
    "      print(\"\\n{} - Caching Checkpoint - val_accuracy has improved from: {:.4f} to: {:.4f}\".format(self.get_name(), self.best_val_accuracy, val_loss))\n",
    "      self.best_val_accuracy = val_loss\n",
    "      \n",
    "      self.model.save_weights(self.weights_file_name)\n",
    "\n",
    "      loss_file = open(self.val_accuracy_file_name,\"w\")\n",
    "      loss_file.write(str(val_loss))\n",
    "      loss_file.close()\n",
    "    else:\n",
    "      print(\"\\n{} Val_accuracy did not improve. Best is: {:.4f}. Not Caching\".format(self.get_name(), self.best_val_accuracy))\n",
    "\n",
    "  def train(self, tr_x, tr_y, val_x, val_y, num_epochs=NUM_EPOCHS):\n",
    "    print(\"{} - Training for {} epochs\".format(self.get_name(), num_epochs))\n",
    "\n",
    "    # Create the image generator for Data Augmentation\n",
    "    datagen_batch = len(tr_x) / self.BATCH_SIZE\n",
    "    datagen = self.create_image_generator()\n",
    "\n",
    "    # Create the model checkpointer\n",
    "    custom_checkpointing_callback = tf.keras.callbacks.LambdaCallback(on_epoch_end=lambda epoch, logs:self.save_weights_callback(logs))\n",
    "\n",
    "    # Train and return history\n",
    "    return self.model.fit(datagen.flow(tr_x, tr_y, batch_size=self.BATCH_SIZE), steps_per_epoch=datagen_batch, epochs=num_epochs, validation_data=(val_x, val_y), callbacks=[custom_checkpointing_callback])\n",
    "\n",
    "  def unfreeze_top_x_layers(self, num_layers_to_unfreeze):\n",
    "    \"\"\"\n",
    "    This function is used to unfreeze a set number of layers of the convolutional model\n",
    "    \"\"\"\n",
    "    num_layers = len(self.conv_model.layers)\n",
    "    keep_untrainable = num_layers - num_layers_to_unfreeze\n",
    "    if keep_untrainable < 0:\n",
    "      print(\"{} ERROR: Cannot unfreeze more layers than how many exists. Num layers: {}\".format(self.get_name(), num_layers))\n",
    "    print(\"{} contains {} conv layers. Unfreezing {} conv layers\".format(self.get_name(), num_layers, (num_layers - keep_untrainable)))\n",
    "\n",
    "    num_trainables_before = len(self.model.trainable_variables)\n",
    "\n",
    "    self.conv_model.trainable = True\n",
    "    for layer in self.conv_model.layers[:keep_untrainable]:\n",
    "      layer.trainable = False\n",
    "\n",
    "    print(\"{} Num trainable variables before: {} after: {}\".format(self.get_name(), num_trainables_before, len(self.model.trainable_variables)))\n",
    "\n",
    "  def load_best_weights(self):\n",
    "    \"\"\"\n",
    "    Loads the best weights cached\n",
    "    \"\"\"\n",
    "    print(\"{} - Loading previous training data\".format(self.get_name()))\n",
    "    self.model.load_weights(self.weights_file_name)\n",
    "    print(\"{} - Loaded previous model weights from: {}\".format(self.get_name(), self.weights_file_name))\n",
    "    self.load_best_val_accuracy_value()\n",
    "\n",
    "  def predict(self, val_x):\n",
    "    \"\"\"\n",
    "    Runs prediction using the model\n",
    "    \"\"\"\n",
    "    return self.model.predict(val_x)\n",
    "\n",
    "  def create_model(self, width, height, depth, classes):\n",
    "    \"\"\"\n",
    "    Must be implemented in derived class\n",
    "    This function created the model's architecture using pre trained conv nets\n",
    "    and added dense layers\n",
    "    \"\"\"\n",
    "    raise NotImplementedError()\n",
    "\n",
    "  def create_image_generator(self):\n",
    "    \"\"\"\n",
    "    Must be implemented in derived class\n",
    "    This function creates the image generator for data augmentation \n",
    "    \"\"\"\n",
    "    raise NotImplementedError()\n",
    "\n",
    "  def get_name(self):\n",
    "    \"\"\"\n",
    "    Must be implemented in derived class\n",
    "    Returns a string name for the class. Used by save files for file names\n",
    "    \"\"\"\n",
    "    raise NotImplementedError()\n"
   ]
  },
  {
   "cell_type": "code",
   "execution_count": 21,
   "metadata": {
    "colab": {},
    "colab_type": "code",
    "id": "hNd2S1-JpZ56"
   },
   "outputs": [],
   "source": [
    "class VGG_16_NET(CNN_tuned_base):\n",
    "  def get_name(self):\n",
    "    return \"VGG_16\"\n",
    "\n",
    "  def create_model(self, width, height, depth, classes):\n",
    "    # Create the pre-trained convolutional model\n",
    "    conv_model = tf.keras.applications.VGG16(weights='imagenet', include_top=False, input_shape=(width, height, depth))\n",
    "    conv_model.trainable = False\n",
    "\n",
    "    model = tf.keras.models.Sequential()\n",
    "    model.add(conv_model) \n",
    "    # add dense layers\n",
    "    model.add(tf.keras.layers.Flatten())\n",
    "    model.add(tf.keras.layers.Dropout(0.5))\n",
    "    model.add(tf.keras.layers.Dense(4096, activation='relu'))\n",
    "    model.add(tf.keras.layers.Dense(1024, activation='relu'))\n",
    "    model.add(tf.keras.layers.Dense(classes, activation='softmax'))\n",
    "\n",
    "    # return the conv model and the combined model spearately.\n",
    "    return (conv_model, model)\n",
    "\n",
    "  def create_image_generator(self):\n",
    "    return tf.keras.preprocessing.image.ImageDataGenerator(\n",
    "       rotation_range=45,\n",
    "       width_shift_range=0.3,\n",
    "       height_shift_range=0.3,\n",
    "       horizontal_flip=True,\n",
    "       vertical_flip=False)\n",
    "    pass"
   ]
  },
  {
   "cell_type": "markdown",
   "metadata": {
    "colab_type": "text",
    "id": "9iEE8tkJ3u5x"
   },
   "source": [
    "VGG 16"
   ]
  },
  {
   "cell_type": "code",
   "execution_count": 9,
   "metadata": {
    "colab": {},
    "colab_type": "code",
    "id": "jZPkB0ncs9E6"
   },
   "outputs": [],
   "source": [
    "# Create the instance of the class, by default this will load in checkpointed weigths\n",
    "load_weigths = False # Set load_weigths to false to start the training again\n",
    "my_net = VGG_16_NET(load_weigths)"
   ]
  },
  {
   "cell_type": "code",
   "execution_count": 10,
   "metadata": {
    "colab": {
     "base_uri": "https://localhost:8080/",
     "height": 1000
    },
    "colab_type": "code",
    "id": "Rqi5IhroLQIf",
    "outputId": "78914207-597d-438b-f42a-9a070e5e8c6b"
   },
   "outputs": [
    {
     "name": "stdout",
     "output_type": "stream",
     "text": [
      "VGG_16 - Training for 10 epochs\n",
      "WARNING:tensorflow:sample_weight modes were coerced from\n",
      "  ...\n",
      "    to  \n",
      "  ['...']\n",
      "Train for 63.75 steps, validate on 340 samples\n",
      "Epoch 1/10\n",
      "63/63 [============================>.] - ETA: 1s - loss: 4.8346 - accuracy: 0.1733\n",
      "VGG_16 - Caching Checkpoint - val_accuracy has improved from: 0.0000 to: 0.5088\n",
      "64/63 [==============================] - 149s 2s/step - loss: 4.7921 - accuracy: 0.1745 - val_loss: 1.5725 - val_accuracy: 0.5088\n",
      "Epoch 2/10\n",
      "63/63 [============================>.] - ETA: 1s - loss: 1.8973 - accuracy: 0.3655\n",
      "VGG_16 - Caching Checkpoint - val_accuracy has improved from: 0.5088 to: 0.5765\n",
      "64/63 [==============================] - 129s 2s/step - loss: 1.8936 - accuracy: 0.3667 - val_loss: 1.2048 - val_accuracy: 0.5765\n",
      "Epoch 3/10\n",
      "63/63 [============================>.] - ETA: 1s - loss: 1.4806 - accuracy: 0.5110\n",
      "VGG_16 - Caching Checkpoint - val_accuracy has improved from: 0.5765 to: 0.7176\n",
      "64/63 [==============================] - 133s 2s/step - loss: 1.4770 - accuracy: 0.5118 - val_loss: 0.8677 - val_accuracy: 0.7176\n",
      "Epoch 4/10\n",
      "63/63 [============================>.] - ETA: 1s - loss: 1.2838 - accuracy: 0.5936\n",
      "VGG_16 Val_accuracy did not improve. Best is: 0.7176. Not Caching\n",
      "64/63 [==============================] - 132s 2s/step - loss: 1.2795 - accuracy: 0.5961 - val_loss: 0.8926 - val_accuracy: 0.7118\n",
      "Epoch 5/10\n",
      "63/63 [============================>.] - ETA: 1s - loss: 1.1950 - accuracy: 0.6116\n",
      "VGG_16 - Caching Checkpoint - val_accuracy has improved from: 0.7176 to: 0.7618\n",
      "64/63 [==============================] - 133s 2s/step - loss: 1.1900 - accuracy: 0.6127 - val_loss: 0.7372 - val_accuracy: 0.7618\n",
      "Epoch 6/10\n",
      "63/63 [============================>.] - ETA: 1s - loss: 1.1236 - accuracy: 0.6434\n",
      "VGG_16 Val_accuracy did not improve. Best is: 0.7618. Not Caching\n",
      "64/63 [==============================] - 119s 2s/step - loss: 1.1199 - accuracy: 0.6441 - val_loss: 0.6376 - val_accuracy: 0.7588\n",
      "Epoch 7/10\n",
      "63/63 [============================>.] - ETA: 1s - loss: 1.0519 - accuracy: 0.6504\n",
      "VGG_16 Val_accuracy did not improve. Best is: 0.7618. Not Caching\n",
      "64/63 [==============================] - 109s 2s/step - loss: 1.0732 - accuracy: 0.6431 - val_loss: 0.8280 - val_accuracy: 0.7324\n",
      "Epoch 8/10\n",
      "63/63 [============================>.] - ETA: 1s - loss: 0.9446 - accuracy: 0.6833\n",
      "VGG_16 - Caching Checkpoint - val_accuracy has improved from: 0.7618 to: 0.8294\n",
      "64/63 [==============================] - 116s 2s/step - loss: 0.9544 - accuracy: 0.6833 - val_loss: 0.5228 - val_accuracy: 0.8294\n",
      "Epoch 9/10\n",
      "63/63 [============================>.] - ETA: 1s - loss: 0.9600 - accuracy: 0.6803\n",
      "VGG_16 - Caching Checkpoint - val_accuracy has improved from: 0.8294 to: 0.8353\n",
      "64/63 [==============================] - 135s 2s/step - loss: 0.9594 - accuracy: 0.6814 - val_loss: 0.5036 - val_accuracy: 0.8353\n",
      "Epoch 10/10\n",
      "63/63 [============================>.] - ETA: 1s - loss: 0.9714 - accuracy: 0.7022\n",
      "VGG_16 Val_accuracy did not improve. Best is: 0.8353. Not Caching\n",
      "64/63 [==============================] - 137s 2s/step - loss: 0.9680 - accuracy: 0.7039 - val_loss: 0.5040 - val_accuracy: 0.8147\n"
     ]
    },
    {
     "data": {
      "image/png": "[encoded data removed]",
      "text/plain": [
       "<Figure size 432x288 with 1 Axes>"
      ]
     },
     "metadata": {},
     "output_type": "display_data"
    }
   ],
   "source": [
    "# Conv Layers are locked, train dense layers\n",
    "# Run this cell multiple times and/or increase num_epochs until best result is achieved. Best weigths will be saved!\n",
    "num_epochs = 10\n",
    "history = my_net.train(trainX, trainY, testX, testY, num_epochs)\n",
    "plot_results(history, num_epochs)\n"
   ]
  },
  {
   "cell_type": "code",
   "execution_count": 11,
   "metadata": {
    "colab": {
     "base_uri": "https://localhost:8080/",
     "height": 173
    },
    "colab_type": "code",
    "id": "e3ltKJgXLxAV",
    "outputId": "ad7856d7-2f56-49fa-bb49-e70c0fae0f3c"
   },
   "outputs": [
    {
     "name": "stdout",
     "output_type": "stream",
     "text": [
      "VGG_16 - Loading previous training data\n",
      "VGG_16 - Loaded previous model weights from: C:\\Users\\danie\\Documents\\Work\\AI_portfolio\\AI_portfolioVGG_16_2.hdf5\n",
      "VGG_16 - Loaded best val_accuracy value: 0.8353 from: C:\\Users\\danie\\Documents\\Work\\AI_portfolio\\AI_portfolioVGG_16_2_val_accuracy.txt\n",
      "VGG_16 contains 19 conv layers. Unfreezing 4 conv layers\n",
      "VGG_16 Num trainable variables before: 6 after: 12\n",
      "VGG_16 Best Model prediction loss: 0.5036, accuracy: 83.53%\n"
     ]
    }
   ],
   "source": [
    "# Finished training dense layers. Prep for training conv layers:\n",
    "# Reload best weights, change learning rate, unfreeze layers\n",
    "# recreate model with a new learning rate. This also loads best weights\n",
    "my_net = VGG_16_NET(True, CONV_LR)\n",
    "my_net.unfreeze_top_x_layers(4)\n",
    "\n",
    "pred_y = my_net.predict(testX)\n",
    "pred_loss, pred_accuracy = get_prediction_result(pred_y, testY)\n",
    "print(\"{} Best Model prediction loss: {:.4f}, accuracy: {:.2f}%\".format(my_net.get_name(), pred_loss, pred_accuracy*100.0))"
   ]
  },
  {
   "cell_type": "code",
   "execution_count": 12,
   "metadata": {
    "colab": {
     "base_uri": "https://localhost:8080/",
     "height": 1000
    },
    "colab_type": "code",
    "id": "J9CqkDt1MQzj",
    "outputId": "e07c6f3d-43ca-43dd-f3ab-696d9c71c5b4"
   },
   "outputs": [
    {
     "name": "stdout",
     "output_type": "stream",
     "text": [
      "VGG_16 - Training for 10 epochs\n",
      "WARNING:tensorflow:sample_weight modes were coerced from\n",
      "  ...\n",
      "    to  \n",
      "  ['...']\n",
      "Train for 63.75 steps, validate on 340 samples\n",
      "Epoch 1/10\n",
      "63/63 [============================>.] - ETA: 1s - loss: 0.7254 - accuracy: 0.7629\n",
      "VGG_16 - Caching Checkpoint - val_accuracy has improved from: 0.8353 to: 0.8441\n",
      "64/63 [==============================] - 136s 2s/step - loss: 0.7290 - accuracy: 0.7608 - val_loss: 0.4541 - val_accuracy: 0.8441\n",
      "Epoch 2/10\n",
      "63/63 [============================>.] - ETA: 1s - loss: 0.6570 - accuracy: 0.8008\n",
      "VGG_16 - Caching Checkpoint - val_accuracy has improved from: 0.8441 to: 0.8559\n",
      "64/63 [==============================] - 137s 2s/step - loss: 0.6532 - accuracy: 0.8029 - val_loss: 0.4285 - val_accuracy: 0.8559\n",
      "Epoch 3/10\n",
      "63/63 [============================>.] - ETA: 1s - loss: 0.6709 - accuracy: 0.7819\n",
      "VGG_16 - Caching Checkpoint - val_accuracy has improved from: 0.8559 to: 0.8647\n",
      "64/63 [==============================] - 134s 2s/step - loss: 0.6660 - accuracy: 0.7833 - val_loss: 0.4157 - val_accuracy: 0.8647\n",
      "Epoch 4/10\n",
      "63/63 [============================>.] - ETA: 1s - loss: 0.6656 - accuracy: 0.7829\n",
      "VGG_16 Val_accuracy did not improve. Best is: 0.8647. Not Caching\n",
      "64/63 [==============================] - 145s 2s/step - loss: 0.6637 - accuracy: 0.7833 - val_loss: 0.4085 - val_accuracy: 0.8647\n",
      "Epoch 5/10\n",
      "63/63 [============================>.] - ETA: 1s - loss: 0.6611 - accuracy: 0.7878\n",
      "VGG_16 - Caching Checkpoint - val_accuracy has improved from: 0.8647 to: 0.8676\n",
      "64/63 [==============================] - 145s 2s/step - loss: 0.6579 - accuracy: 0.7873 - val_loss: 0.4011 - val_accuracy: 0.8676\n",
      "Epoch 6/10\n",
      "63/63 [============================>.] - ETA: 1s - loss: 0.6127 - accuracy: 0.8058\n",
      "VGG_16 Val_accuracy did not improve. Best is: 0.8676. Not Caching\n",
      "64/63 [==============================] - 150s 2s/step - loss: 0.6146 - accuracy: 0.8039 - val_loss: 0.3940 - val_accuracy: 0.8676\n",
      "Epoch 7/10\n",
      "63/63 [============================>.] - ETA: 1s - loss: 0.5939 - accuracy: 0.7998\n",
      "VGG_16 - Caching Checkpoint - val_accuracy has improved from: 0.8676 to: 0.8706\n",
      "64/63 [==============================] - 153s 2s/step - loss: 0.5936 - accuracy: 0.8000 - val_loss: 0.3903 - val_accuracy: 0.8706\n",
      "Epoch 8/10\n",
      "63/63 [============================>.] - ETA: 1s - loss: 0.5885 - accuracy: 0.8018\n",
      "VGG_16 - Caching Checkpoint - val_accuracy has improved from: 0.8706 to: 0.8794\n",
      "64/63 [==============================] - 160s 3s/step - loss: 0.5935 - accuracy: 0.7990 - val_loss: 0.3856 - val_accuracy: 0.8794\n",
      "Epoch 9/10\n",
      "63/63 [============================>.] - ETA: 1s - loss: 0.5917 - accuracy: 0.8088\n",
      "VGG_16 Val_accuracy did not improve. Best is: 0.8794. Not Caching\n",
      "64/63 [==============================] - 158s 2s/step - loss: 0.6019 - accuracy: 0.8088 - val_loss: 0.3828 - val_accuracy: 0.8765\n",
      "Epoch 10/10\n",
      "63/63 [============================>.] - ETA: 1s - loss: 0.6183 - accuracy: 0.7998\n",
      "VGG_16 Val_accuracy did not improve. Best is: 0.8794. Not Caching\n",
      "64/63 [==============================] - 159s 2s/step - loss: 0.6145 - accuracy: 0.8000 - val_loss: 0.3799 - val_accuracy: 0.8765\n"
     ]
    },
    {
     "data": {
      "image/png": "[encoded data removed]",
      "text/plain": [
       "<Figure size 432x288 with 1 Axes>"
      ]
     },
     "metadata": {},
     "output_type": "display_data"
    }
   ],
   "source": [
    "# Train dense and conv layers\n",
    "# Run this cell multiple times and/or increase num_epochs until best result is achieved. Best weigths will be saved!\n",
    "num_epochs = 10\n",
    "history = my_net.train(trainX, trainY, testX, testY, num_epochs)\n",
    "plot_results(history, num_epochs)"
   ]
  }
 ],
 "metadata": {
  "accelerator": "GPU",
  "colab": {
   "collapsed_sections": [],
   "name": "PartB.ipynb",
   "provenance": []
  },
  "kernelspec": {
   "display_name": "Python 3",
   "language": "python",
   "name": "python3"
  },
  "language_info": {
   "codemirror_mode": {
    "name": "ipython",
    "version": 3
   },
   "file_extension": ".py",
   "mimetype": "text/x-python",
   "name": "python",
   "nbconvert_exporter": "python",
   "pygments_lexer": "ipython3",
   "version": "3.7.7"
  }
 },
 "nbformat": 4,
 "nbformat_minor": 1
}
