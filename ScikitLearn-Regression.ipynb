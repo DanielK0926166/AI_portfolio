{
 "cells": [
  {
   "cell_type": "markdown",
   "metadata": {},
   "source": [
    "<center><b>Scikit Learn - Regression</b></center><br>\n",
    "\n",
    "The code below demonstrates usage of the Scikit Learn library on a regression problem.\n",
    "It uses the KNeighborsRegressor to train the data and r2_score to aveluate the accuracy"
   ]
  },
  {
   "cell_type": "code",
   "execution_count": 1,
   "metadata": {},
   "outputs": [],
   "source": [
    "import numpy as np\n",
    "\n",
    "from sklearn.neighbors import KNeighborsRegressor\n",
    "from sklearn.model_selection import train_test_split\n",
    "from sklearn.metrics import r2_score"
   ]
  },
  {
   "cell_type": "code",
   "execution_count": 2,
   "metadata": {},
   "outputs": [],
   "source": [
    "all_data = np.genfromtxt('data/ScikitLearn/regressionData/regressionData.csv', delimiter=',')\n",
    "\n",
    "splitData = train_test_split(all_data, shuffle=True)\n",
    "trainingData = splitData[0]\n",
    "testData     = splitData[1]\n",
    "\n",
    "training_X = trainingData[:,:-1]\n",
    "training_Y = trainingData[:,-1]\n",
    "test_X = testData[:,:-1]\n",
    "test_Y = testData[:,-1]\n"
   ]
  },
  {
   "cell_type": "code",
   "execution_count": 3,
   "metadata": {},
   "outputs": [
    {
     "name": "stdout",
     "output_type": "stream",
     "text": [
      "R2 score for KNeighborsRegressor is: 0.9997995190173413\n"
     ]
    }
   ],
   "source": [
    "knnRegressor = KNeighborsRegressor(n_neighbors=2)\n",
    "knnRegressor.fit(training_X, training_Y)\n",
    "\n",
    "y_pred = knnRegressor.predict(test_X)\n",
    "r2Score = r2_score(test_Y, y_pred)\n",
    "print(\"R2 score for KNeighborsRegressor is: {}\".format(r2Score))\n"
   ]
  }
 ],
 "metadata": {
  "kernelspec": {
   "display_name": "Python 3",
   "language": "python",
   "name": "python3"
  },
  "language_info": {
   "codemirror_mode": {
    "name": "ipython",
    "version": 3
   },
   "file_extension": ".py",
   "mimetype": "text/x-python",
   "name": "python",
   "nbconvert_exporter": "python",
   "pygments_lexer": "ipython3",
   "version": "3.7.4"
  }
 },
 "nbformat": 4,
 "nbformat_minor": 2
}
