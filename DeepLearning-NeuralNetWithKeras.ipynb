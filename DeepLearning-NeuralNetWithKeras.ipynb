{
 "cells": [
  {
   "cell_type": "markdown",
   "metadata": {},
   "source": [
    "<center><b>Deep Learning - Neural Network Implementation using Keras</b></center><br>\n",
    "\n",
    "The code below uses Keras to implement a neural network with 5 hidden layers and dropout regularization."
   ]
  },
  {
   "cell_type": "code",
   "execution_count": 13,
   "metadata": {
    "colab": {
     "base_uri": "https://localhost:8080/",
     "height": 34
    },
    "colab_type": "code",
    "executionInfo": {
     "elapsed": 1515,
     "status": "ok",
     "timestamp": 1586514138903,
     "user": {
      "displayName": "Daniel Kiss",
      "photoUrl": "https://lh3.googleusercontent.com/a-/AOh14GgA0SltFB1x60rWfVgZEBFYWIO73SxraCleF96JVwc=s64",
      "userId": "11892093055948934646"
     },
     "user_tz": -60
    },
    "id": "TVPnGGv8J-G1",
    "outputId": "16baf3ce-0c94-47b6-9a2d-a923b7b8c9a7"
   },
   "outputs": [
    {
     "name": "stdout",
     "output_type": "stream",
     "text": [
      "2.1.0\n"
     ]
    }
   ],
   "source": [
    "import os\n",
    "import time\n",
    "import h5py\n",
    "import numpy as np\n",
    "import matplotlib.pyplot as plt\n",
    "import zipfile\n",
    "\n",
    "import tensorflow as tf\n",
    "print(tf.__version__)"
   ]
  },
  {
   "cell_type": "code",
   "execution_count": 15,
   "metadata": {
    "colab": {
     "base_uri": "https://localhost:8080/",
     "height": 136
    },
    "colab_type": "code",
    "executionInfo": {
     "elapsed": 2474,
     "status": "ok",
     "timestamp": 1586514203047,
     "user": {
      "displayName": "Daniel Kiss",
      "photoUrl": "https://lh3.googleusercontent.com/a-/AOh14GgA0SltFB1x60rWfVgZEBFYWIO73SxraCleF96JVwc=s64",
      "userId": "11892093055948934646"
     },
     "user_tz": -60
    },
    "id": "SzaOh1fsL8KW",
    "outputId": "7393b59a-4d08-42f3-e563-d80402ac2423"
   },
   "outputs": [
    {
     "name": "stdout",
     "output_type": "stream",
     "text": [
      "List of arrays in this file: \n",
      " <KeysViewHDF5 ['testData', 'trainData']>\n",
      "Shape of the array dataset_1: \n",
      " (200000, 785)\n",
      "Shape of the array dataset_2: \n",
      " (17000, 785)\n",
      "(200000,)\n"
     ]
    }
   ],
   "source": [
    "# Handle dataset\n",
    "path = os.getcwd()\n",
    "data_file = path+\"/data/DeepLearning/keras_data.zip\"\n",
    "\n",
    "data = zipfile.ZipFile(data_file)\n",
    "data_file = data.open('data.h5')\n",
    "\n",
    "def loadData():\n",
    "  with h5py.File(data_file,'r') as hf:\n",
    "    print('List of arrays in this file: \\n', hf.keys())\n",
    "    allTrain = hf.get('trainData')\n",
    "    allTest = hf.get('testData')\n",
    "    npTrain = np.array(allTrain)\n",
    "    npTest = np.array(allTest)\n",
    "    print('Shape of the array dataset_1: \\n', npTrain.shape)\n",
    "    print('Shape of the array dataset_2: \\n', npTest.shape)\n",
    "    return npTrain[:,:-1], npTrain[:, -1], npTest[:,:-1], npTest[:, -1]\n",
    "\n",
    "trainX, trainY, testX, testY = loadData()\n",
    "print(trainY.shape)"
   ]
  },
  {
   "cell_type": "code",
   "execution_count": 11,
   "metadata": {
    "colab": {},
    "colab_type": "code",
    "id": "ktabT8q5xdGA"
   },
   "outputs": [],
   "source": [
    "# Helper function to plot data\n",
    "def plot_training(history):\n",
    "  # Plot training & validation accuracy values\n",
    "  plt.plot(history.history['accuracy'])\n",
    "  plt.plot(history.history['val_accuracy'])\n",
    "  plt.title('Model accuracy')\n",
    "  plt.ylabel('Accuracy')\n",
    "  plt.xlabel('Epoch')\n",
    "  plt.legend(['Train', 'Test'], loc='upper left')\n",
    "  plt.show()\n",
    "\n",
    "  # Plot training & validation loss values\n",
    "  plt.plot(history.history['loss'])\n",
    "  plt.plot(history.history['val_loss'])\n",
    "  plt.title('Model loss')\n",
    "  plt.ylabel('Loss')\n",
    "  plt.xlabel('Epoch')\n",
    "  plt.legend(['Train', 'Test'], loc='upper left')\n",
    "  plt.show()"
   ]
  },
  {
   "cell_type": "code",
   "execution_count": 12,
   "metadata": {
    "colab": {
     "base_uri": "https://localhost:8080/",
     "height": 1000
    },
    "colab_type": "code",
    "executionInfo": {
     "elapsed": 75104,
     "status": "ok",
     "timestamp": 1586514381203,
     "user": {
      "displayName": "Daniel Kiss",
      "photoUrl": "https://lh3.googleusercontent.com/a-/AOh14GgA0SltFB1x60rWfVgZEBFYWIO73SxraCleF96JVwc=s64",
      "userId": "11892093055948934646"
     },
     "user_tz": -60
    },
    "id": "z6bhyOUYWuTS",
    "outputId": "c2c57a72-25ed-4ca6-9dc7-a1def5ebc97d"
   },
   "outputs": [
    {
     "name": "stdout",
     "output_type": "stream",
     "text": [
      "Train on 180000 samples, validate on 20000 samples\n",
      "Epoch 1/20\n",
      "180000/180000 [==============================] - 50s 275us/sample - loss: 0.6294 - accuracy: 0.8108 - val_loss: 0.4538 - val_accuracy: 0.8610\n",
      "Epoch 2/20\n",
      "180000/180000 [==============================] - 43s 238us/sample - loss: 0.4852 - accuracy: 0.8562 - val_loss: 0.4144 - val_accuracy: 0.8752\n",
      "Epoch 3/20\n",
      "180000/180000 [==============================] - 44s 243us/sample - loss: 0.4468 - accuracy: 0.8676 - val_loss: 0.3810 - val_accuracy: 0.8842\n",
      "Epoch 4/20\n",
      "180000/180000 [==============================] - 37s 207us/sample - loss: 0.4219 - accuracy: 0.8752 - val_loss: 0.3713 - val_accuracy: 0.8878\n",
      "Epoch 5/20\n",
      "180000/180000 [==============================] - 36s 202us/sample - loss: 0.4041 - accuracy: 0.8803 - val_loss: 0.3616 - val_accuracy: 0.8906\n",
      "Epoch 6/20\n",
      "180000/180000 [==============================] - 40s 223us/sample - loss: 0.3908 - accuracy: 0.8839 - val_loss: 0.3587 - val_accuracy: 0.8949\n",
      "Epoch 7/20\n",
      "180000/180000 [==============================] - 40s 223us/sample - loss: 0.3809 - accuracy: 0.8869 - val_loss: 0.3577 - val_accuracy: 0.8944\n",
      "Epoch 8/20\n",
      "180000/180000 [==============================] - 40s 225us/sample - loss: 0.3725 - accuracy: 0.8892 - val_loss: 0.3436 - val_accuracy: 0.8974\n",
      "Epoch 9/20\n",
      "180000/180000 [==============================] - 41s 229us/sample - loss: 0.3646 - accuracy: 0.8921 - val_loss: 0.3557 - val_accuracy: 0.8951\n",
      "Epoch 10/20\n",
      "180000/180000 [==============================] - 45s 250us/sample - loss: 0.3584 - accuracy: 0.8933 - val_loss: 0.3462 - val_accuracy: 0.8974\n",
      "Epoch 11/20\n",
      "180000/180000 [==============================] - 41s 226us/sample - loss: 0.3534 - accuracy: 0.8947 - val_loss: 0.3450 - val_accuracy: 0.8989\n",
      "Epoch 12/20\n",
      "180000/180000 [==============================] - 41s 230us/sample - loss: 0.3489 - accuracy: 0.8962 - val_loss: 0.3377 - val_accuracy: 0.9001\n",
      "Epoch 13/20\n",
      "180000/180000 [==============================] - 41s 225us/sample - loss: 0.3423 - accuracy: 0.8986 - val_loss: 0.3345 - val_accuracy: 0.9013\n",
      "Epoch 14/20\n",
      "180000/180000 [==============================] - 40s 223us/sample - loss: 0.3379 - accuracy: 0.8995 - val_loss: 0.3342 - val_accuracy: 0.9006\n",
      "Epoch 15/20\n",
      "180000/180000 [==============================] - 39s 218us/sample - loss: 0.3337 - accuracy: 0.9006 - val_loss: 0.3345 - val_accuracy: 0.9018\n",
      "Epoch 16/20\n",
      "180000/180000 [==============================] - 37s 205us/sample - loss: 0.3292 - accuracy: 0.9019 - val_loss: 0.3218 - val_accuracy: 0.9044\n",
      "Epoch 17/20\n",
      "180000/180000 [==============================] - 37s 205us/sample - loss: 0.3264 - accuracy: 0.9027 - val_loss: 0.3272 - val_accuracy: 0.9029\n",
      "Epoch 18/20\n",
      "180000/180000 [==============================] - 45s 249us/sample - loss: 0.3247 - accuracy: 0.9030 - val_loss: 0.3296 - val_accuracy: 0.9032\n",
      "Epoch 19/20\n",
      "180000/180000 [==============================] - 43s 240us/sample - loss: 0.3198 - accuracy: 0.9044 - val_loss: 0.3237 - val_accuracy: 0.9058\n",
      "Epoch 20/20\n",
      "180000/180000 [==============================] - 43s 241us/sample - loss: 0.3179 - accuracy: 0.9056 - val_loss: 0.3266 - val_accuracy: 0.9039\n",
      "17000/17000 [==============================] - 6s 333us/sample - loss: 0.2603 - accuracy: 0.9242\n",
      "Completed in 824.47 sec. Loss: 0.26. Accuracy: 92.42%\n"
     ]
    },
    {
     "data": {
      "image/png": "[encoded data removed]",
      "text/plain": [
       "<Figure size 432x288 with 1 Axes>"
      ]
     },
     "metadata": {
      "needs_background": "light"
     },
     "output_type": "display_data"
    },
    {
     "data": {
      "image/png": "[encoded data removed]",
      "text/plain": [
       "<Figure size 432x288 with 1 Axes>"
      ]
     },
     "metadata": {
      "needs_background": "light"
     },
     "output_type": "display_data"
    }
   ],
   "source": [
    "DROPUT_RATE = 0.4\n",
    "\n",
    "# Create the model\n",
    "model = tf.keras.models.Sequential([\n",
    "  tf.keras.layers.Dense(1000, activation=tf.nn.relu, input_shape=(784,)),\n",
    "  tf.keras.layers.Dropout(DROPUT_RATE),\n",
    "  tf.keras.layers.Dense(800, activation=tf.nn.relu),\n",
    "  tf.keras.layers.Dropout(DROPUT_RATE),\n",
    "  tf.keras.layers.Dense(600, activation=tf.nn.relu),\n",
    "  tf.keras.layers.Dropout(DROPUT_RATE),\n",
    "  tf.keras.layers.Dense(400, activation=tf.nn.relu),\n",
    "  tf.keras.layers.Dropout(DROPUT_RATE),\n",
    "  tf.keras.layers.Dense(200, activation=tf.nn.relu),\n",
    "  tf.keras.layers.Dropout(DROPUT_RATE),\n",
    "  tf.keras.layers.Dense(10, activation=tf.nn.softmax)\n",
    "])\n",
    "\n",
    "model.compile(optimizer='adam', loss='sparse_categorical_crossentropy', metrics=['accuracy'])\n",
    "\n",
    "start_time = time.time()\n",
    "# Train the model\n",
    "history = model.fit(trainX, trainY, epochs=20, validation_split=0.1, batch_size=256)\n",
    "training_time = time.time() - start_time\n",
    "results = model.evaluate(testX, testY)\n",
    "\n",
    "print('Completed in {:.2f} sec. Loss: {:.2f}. Accuracy: {:.2f}%'.format(training_time, results[0], results[1]*100.0))\n",
    "plot_training(history)"
   ]
  }
 ],
 "metadata": {
  "accelerator": "GPU",
  "colab": {
   "authorship_tag": "ABX9TyOhU3r0PaATTjGtOc8vonQg",
   "collapsed_sections": [],
   "name": "PartB.ipynb",
   "provenance": []
  },
  "kernelspec": {
   "display_name": "Python 3",
   "language": "python",
   "name": "python3"
  },
  "language_info": {
   "codemirror_mode": {
    "name": "ipython",
    "version": 3
   },
   "file_extension": ".py",
   "mimetype": "text/x-python",
   "name": "python",
   "nbconvert_exporter": "python",
   "pygments_lexer": "ipython3",
   "version": "3.7.7"
  }
 },
 "nbformat": 4,
 "nbformat_minor": 1
}
