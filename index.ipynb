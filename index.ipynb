{
 "cells": [
  {
   "cell_type": "markdown",
   "metadata": {},
   "source": [
    "<b>Python Portfolio Projects:</b><br>\n",
    "\n",
    "1. [**Genetic Algorythm - N Queens**](./geneticalgorithm-nQueens.ipynb)\n",
    "1. [**Local Search - GSAT**](./localsearch-GSAT.ipynb)\n",
    "1. [**Scikit Learn - Classification**](./ScikitLearn-Classification.ipynb)\n",
    "1. [**Scikit Learn - Regression**](./ScikitLearn-Regression.ipynb)\n",
    "1. [**Scikit Learn - Regression with Outliers**](./ScikitLearn-Outliers.ipynb)"
   ]
  }
 ],
 "metadata": {
  "kernelspec": {
   "display_name": "Python 3",
   "language": "python",
   "name": "python3"
  },
  "language_info": {
   "codemirror_mode": {
    "name": "ipython",
    "version": 3
   },
   "file_extension": ".py",
   "mimetype": "text/x-python",
   "name": "python",
   "nbconvert_exporter": "python",
   "pygments_lexer": "ipython3",
   "version": "3.7.1"
  }
 },
 "nbformat": 4,
 "nbformat_minor": 2
}
