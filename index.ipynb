{
 "cells": [
  {
   "cell_type": "markdown",
   "metadata": {},
   "source": [
    "<b>Python Portfolio Projects:</b><br>\n",
    "\n",
    "1. [**Genetic Algorythm - N Queens**](./geneticalgorithm-nQueens.ipynb)\n",
    "2. [**Local Search - GSAT**](./localsearch-GSAT.ipynb)\n",
    "3. [**Local Search - GWSAT**](./localsearch-GWSAT.ipynb)\n",
    "4. [**Local Search - WalkSAT**](./localsearch-WalkSAT.ipynb)\n",
    "5. [**Scikit Learn - Classification**](./ScikitLearn-Classification.ipynb)\n",
    "6. [**Scikit Learn - Regression**](./ScikitLearn-Regression.ipynb)\n",
    "7. [**Scikit Learn - Regression with Outliers**](./ScikitLearn-Outliers.ipynb)\n",
    "8. [**Deep Learning - Basic Neural Net**](./DeepLearning-BasicNeuralNet.ipynb)\n",
    "9. [**Deep Learning - Neural Network with Keras**](./DeepLearning-NeuralNetWithKeras.ipynb)\n",
    "10. [**Deep Learning - Basic Convolution Network with Keras**](./DeepLearning-BasicConvNet.ipynb)\n",
    "11. [**Deep Learning - Convolution Network Ensemble (Average)**](./DeepLearning-ConvNetEnsembleAverage.ipynb)\n",
    "12. [**Deep Learning - Convolution Network Ensemble (Bagging)**](./DeepLearning-ConvNetEnsembleBagging.ipynb)\n",
    "13. [**Deep Learning - Convolution Network Ensemble (Boosting)**](./DeepLearning-ConvNetEnsembleBoosting.ipynb)\n",
    "14. [**Deep Learning - Fine-Tuning Models with Keras**](./DeepLearning-FineTuningModels.ipynb)"
   ]
  }
 ],
 "metadata": {
  "kernelspec": {
   "display_name": "Python 3",
   "language": "python",
   "name": "python3"
  },
  "language_info": {
   "codemirror_mode": {
    "name": "ipython",
    "version": 3
   },
   "file_extension": ".py",
   "mimetype": "text/x-python",
   "name": "python",
   "nbconvert_exporter": "python",
   "pygments_lexer": "ipython3",
   "version": "3.7.7"
  }
 },
 "nbformat": 4,
 "nbformat_minor": 2
}
