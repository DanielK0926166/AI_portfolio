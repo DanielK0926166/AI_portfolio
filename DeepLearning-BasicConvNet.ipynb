{
 "cells": [
  {
   "cell_type": "markdown",
   "metadata": {},
   "source": [
    "<center><b>Deep Learning - Basic Convolutional Network Implementation using Keras</b></center><br>\n",
    "\n",
    "The code below uses Keras to implement a convolutional network with 3 convolutional layers and 2 fully connected layer."
   ]
  },
  {
   "cell_type": "code",
   "execution_count": 7,
   "metadata": {
    "colab": {
     "base_uri": "https://localhost:8080/",
     "height": 190
    },
    "colab_type": "code",
    "id": "Ho5hTcQaHgNq",
    "outputId": "5bc145da-8017-4822-f71b-f4ce7f4c0787"
   },
   "outputs": [
    {
     "name": "stdout",
     "output_type": "stream",
     "text": [
      "2.1.0\n"
     ]
    }
   ],
   "source": [
    "import os.path\n",
    "import h5py\n",
    "import numpy as np\n",
    "import tensorflow as tf\n",
    "from tensorflow import keras\n",
    "from keras.utils import np_utils\n",
    "import matplotlib.pyplot as plt\n",
    "import zipfile\n",
    "\n",
    "import tensorflow as tf\n",
    "print(tf.__version__)"
   ]
  },
  {
   "cell_type": "code",
   "execution_count": 8,
   "metadata": {
    "colab": {
     "base_uri": "https://localhost:8080/",
     "height": 51
    },
    "colab_type": "code",
    "id": "Lt_ZAF3vIm0T",
    "outputId": "0d3e629d-c1fc-4bb1-cb9d-983f34334667"
   },
   "outputs": [
    {
     "name": "stdout",
     "output_type": "stream",
     "text": [
      "(1020, 128, 128, 3) (1020,)\n",
      "(340, 128, 128, 3) (340,)\n"
     ]
    }
   ],
   "source": [
    "# Handle dataset\n",
    "path = os.getcwd()\n",
    "data_file = path+\"/data/DeepLearning/conv_net_data.zip\"\n",
    "\n",
    "data = zipfile.ZipFile(data_file)\n",
    "data_file = data.open('data1.h5')\n",
    "\n",
    "def loadDataH5():\n",
    "    with h5py.File(data_file,'r') as hf:\n",
    "      trainX = np.array(hf.get('trainX'))\n",
    "      trainY = np.array(hf.get('trainY'))\n",
    "      valX = np.array(hf.get('valX'))\n",
    "      valY = np.array(hf.get('valY'))\n",
    "      print (trainX.shape,trainY.shape)\n",
    "      print (valX.shape,valY.shape)\n",
    "      return trainX, trainY, valX, valY \n",
    " \n",
    "trainX, trainY, testX, testY = loadDataH5() "
   ]
  },
  {
   "cell_type": "code",
   "execution_count": 9,
   "metadata": {
    "colab": {},
    "colab_type": "code",
    "id": "3vKSuUaOSJl_"
   },
   "outputs": [],
   "source": [
    "# const variables about the dataset\n",
    "IMG_DEPTH   = 3\n",
    "IMG_WIDTH   = 128\n",
    "IMG_HEIGHT  = 128\n",
    "NUM_CLASSES = 17\n",
    "\n",
    "\n",
    "NUM_EPOCHS  = 50"
   ]
  },
  {
   "cell_type": "code",
   "execution_count": 10,
   "metadata": {
    "colab": {},
    "colab_type": "code",
    "id": "O1ex-nmgmn4a"
   },
   "outputs": [],
   "source": [
    "def plot_results(H):\n",
    "    # plot the training loss and accuracy\n",
    "    plt.style.use(\"ggplot\")\n",
    "    plt.figure()\n",
    "    plt.plot(np.arange(0, NUM_EPOCHS), H.history[\"loss\"], label=\"train_loss\")\n",
    "    plt.plot(np.arange(0, NUM_EPOCHS), H.history[\"val_loss\"], label=\"val_loss\")\n",
    "    plt.plot(np.arange(0, NUM_EPOCHS), H.history[\"accuracy\"], label=\"train_acc\")\n",
    "    plt.plot(np.arange(0, NUM_EPOCHS), H.history[\"val_accuracy\"], label=\"val_acc\")\n",
    "    plt.title(\"Training Loss and Accuracy\")\n",
    "    plt.xlabel(\"Epoch #\")\n",
    "    plt.ylabel(\"Loss/Accuracy\")\n",
    "    plt.legend()\n",
    "    plt.show()\n",
    "    pass"
   ]
  },
  {
   "cell_type": "code",
   "execution_count": 11,
   "metadata": {},
   "outputs": [],
   "source": [
    "def create_model_architecture(width, height, depth, classes):\n",
    "    inputShape = (height, width, depth)\n",
    "\n",
    "    model = tf.keras.Sequential()\n",
    "    \n",
    "    # add conv layer 1\n",
    "    model.add(tf.keras.layers.Conv2D(64, (3, 3), padding=\"same\", input_shape=inputShape, activation='relu'))\n",
    "    # add pooling layer 1\n",
    "    model.add(tf.keras.layers.MaxPooling2D(pool_size=(2,2)))\n",
    "    # add conv layer 2\n",
    "    model.add(tf.keras.layers.Conv2D(64, (3, 3), padding=\"same\", activation='relu'))\n",
    "    # add pooling layer 2\n",
    "    model.add(tf.keras.layers.MaxPooling2D(pool_size=(2,2)))\n",
    "    # add conv layer 3\n",
    "    model.add(tf.keras.layers.Conv2D(64, (3, 3), padding=\"same\", activation='relu'))\n",
    "    # add pooling layer 3\n",
    "    model.add(tf.keras.layers.MaxPooling2D(pool_size=(2,2)))\n",
    "\n",
    "    # add fully connected layer\n",
    "    model.add(keras.layers.Flatten())\n",
    "    model.add(keras.layers.Dense(512, activation='relu'))\n",
    "    # add softmax layer\n",
    "    model.add(keras.layers.Dense(classes, activation='softmax'))\n",
    "    return model"
   ]
  },
  {
   "cell_type": "code",
   "execution_count": 13,
   "metadata": {},
   "outputs": [],
   "source": [
    "# Convolutional Neural Network class. This class creates the model and trains it.\n",
    "class CNN:\n",
    "  def __init__(self):\n",
    "    # Initialise the Model\n",
    "    self.optimiser = tf.keras.optimizers.SGD()\n",
    "    self.model = create_model_architecture(IMG_WIDTH, IMG_HEIGHT, IMG_DEPTH, NUM_CLASSES)\n",
    "    self.model.compile(loss='sparse_categorical_crossentropy', optimizer=self.optimiser, metrics=['accuracy'])\n",
    "\n",
    "  def train(self, tr_x, tr_y, val_x, val_y):\n",
    "    # Train the Model\n",
    "    history = self.model.fit(tr_x, tr_y, batch_size=16, epochs=NUM_EPOCHS, validation_data=(val_x, val_y))\n",
    "\n",
    "    # Run the validation data for final result as if it was the Test Data because there is no separate Test Data\n",
    "    validation_result = self.model.evaluate(val_x, val_y)\n",
    "    print (\"Test Data Loss: {:.4f} and Accuracy: {:.2f}%\".format(validation_result[0], validation_result[1]*100.0))\n",
    "    plot_results(history)\n",
    "\n"
   ]
  },
  {
   "cell_type": "code",
   "execution_count": 14,
   "metadata": {},
   "outputs": [
    {
     "name": "stdout",
     "output_type": "stream",
     "text": [
      "Train on 1020 samples, validate on 340 samples\n",
      "Epoch 1/50\n",
      "1020/1020 [==============================] - 38s 38ms/sample - loss: 2.8026 - accuracy: 0.0951 - val_loss: 2.7247 - val_accuracy: 0.1294\n",
      "Epoch 2/50\n",
      "1020/1020 [==============================] - 29s 28ms/sample - loss: 2.5118 - accuracy: 0.1882 - val_loss: 2.2374 - val_accuracy: 0.2559\n",
      "Epoch 3/50\n",
      "1020/1020 [==============================] - 30s 30ms/sample - loss: 2.1314 - accuracy: 0.2775 - val_loss: 2.3359 - val_accuracy: 0.2059\n",
      "Epoch 4/50\n",
      "1020/1020 [==============================] - 29s 28ms/sample - loss: 1.9296 - accuracy: 0.3402 - val_loss: 1.9950 - val_accuracy: 0.2912\n",
      "Epoch 5/50\n",
      "1020/1020 [==============================] - 29s 28ms/sample - loss: 1.7602 - accuracy: 0.3931 - val_loss: 1.7646 - val_accuracy: 0.3853\n",
      "Epoch 6/50\n",
      "1020/1020 [==============================] - 29s 28ms/sample - loss: 1.6009 - accuracy: 0.4647 - val_loss: 1.8362 - val_accuracy: 0.3618\n",
      "Epoch 7/50\n",
      "1020/1020 [==============================] - 29s 28ms/sample - loss: 1.4458 - accuracy: 0.5147 - val_loss: 1.7487 - val_accuracy: 0.4147\n",
      "Epoch 8/50\n",
      "1020/1020 [==============================] - 29s 28ms/sample - loss: 1.3311 - accuracy: 0.5569 - val_loss: 1.6812 - val_accuracy: 0.4029\n",
      "Epoch 9/50\n",
      "1020/1020 [==============================] - 29s 28ms/sample - loss: 1.2214 - accuracy: 0.5784 - val_loss: 1.5344 - val_accuracy: 0.5059\n",
      "Epoch 10/50\n",
      "1020/1020 [==============================] - 28s 28ms/sample - loss: 1.0614 - accuracy: 0.6588 - val_loss: 1.6963 - val_accuracy: 0.4500\n",
      "Epoch 11/50\n",
      "1020/1020 [==============================] - 29s 29ms/sample - loss: 0.9542 - accuracy: 0.6892 - val_loss: 1.3915 - val_accuracy: 0.5353\n",
      "Epoch 12/50\n",
      "1020/1020 [==============================] - 34s 33ms/sample - loss: 0.8724 - accuracy: 0.7196 - val_loss: 1.4107 - val_accuracy: 0.5441\n",
      "Epoch 13/50\n",
      "1020/1020 [==============================] - 32s 31ms/sample - loss: 0.7546 - accuracy: 0.7627 - val_loss: 1.5549 - val_accuracy: 0.5176\n",
      "Epoch 14/50\n",
      "1020/1020 [==============================] - 33s 32ms/sample - loss: 0.6113 - accuracy: 0.7990 - val_loss: 1.4648 - val_accuracy: 0.5647\n",
      "Epoch 15/50\n",
      "1020/1020 [==============================] - 31s 31ms/sample - loss: 0.4915 - accuracy: 0.8618 - val_loss: 1.4790 - val_accuracy: 0.5588\n",
      "Epoch 16/50\n",
      "1020/1020 [==============================] - 31s 31ms/sample - loss: 0.4064 - accuracy: 0.8755 - val_loss: 1.4500 - val_accuracy: 0.5588\n",
      "Epoch 17/50\n",
      "1020/1020 [==============================] - 35s 35ms/sample - loss: 0.2383 - accuracy: 0.9294 - val_loss: 1.7090 - val_accuracy: 0.5647\n",
      "Epoch 18/50\n",
      "1020/1020 [==============================] - 35s 34ms/sample - loss: 0.2060 - accuracy: 0.9500 - val_loss: 1.7386 - val_accuracy: 0.5412\n",
      "Epoch 19/50\n",
      "1020/1020 [==============================] - 33s 32ms/sample - loss: 0.1608 - accuracy: 0.9598 - val_loss: 1.7121 - val_accuracy: 0.5824\n",
      "Epoch 20/50\n",
      "1020/1020 [==============================] - 30s 30ms/sample - loss: 0.1584 - accuracy: 0.9667 - val_loss: 2.6525 - val_accuracy: 0.3824\n",
      "Epoch 21/50\n",
      "1020/1020 [==============================] - 30s 30ms/sample - loss: 0.2088 - accuracy: 0.9559 - val_loss: 1.5897 - val_accuracy: 0.5706\n",
      "Epoch 22/50\n",
      "1020/1020 [==============================] - 29s 29ms/sample - loss: 0.0325 - accuracy: 0.9971 - val_loss: 1.7953 - val_accuracy: 0.5765\n",
      "Epoch 23/50\n",
      "1020/1020 [==============================] - 32s 31ms/sample - loss: 0.0355 - accuracy: 0.9931 - val_loss: 1.8511 - val_accuracy: 0.5706\n",
      "Epoch 24/50\n",
      "1020/1020 [==============================] - 29s 28ms/sample - loss: 0.0135 - accuracy: 0.9990 - val_loss: 1.9546 - val_accuracy: 0.5706\n",
      "Epoch 25/50\n",
      "1020/1020 [==============================] - 29s 29ms/sample - loss: 0.0121 - accuracy: 0.9990 - val_loss: 2.1601 - val_accuracy: 0.5559\n",
      "Epoch 26/50\n",
      "1020/1020 [==============================] - 30s 29ms/sample - loss: 0.0314 - accuracy: 0.9922 - val_loss: 2.0151 - val_accuracy: 0.5765\n",
      "Epoch 27/50\n",
      "1020/1020 [==============================] - 29s 29ms/sample - loss: 0.0080 - accuracy: 1.0000 - val_loss: 2.1034 - val_accuracy: 0.5676\n",
      "Epoch 28/50\n",
      "1020/1020 [==============================] - 29s 29ms/sample - loss: 0.0072 - accuracy: 1.0000 - val_loss: 2.1431 - val_accuracy: 0.5735\n",
      "Epoch 29/50\n",
      "1020/1020 [==============================] - 29s 28ms/sample - loss: 0.0040 - accuracy: 1.0000 - val_loss: 2.2047 - val_accuracy: 0.5618\n",
      "Epoch 30/50\n",
      "1020/1020 [==============================] - 29s 29ms/sample - loss: 0.0034 - accuracy: 1.0000 - val_loss: 2.2095 - val_accuracy: 0.5706\n",
      "Epoch 31/50\n",
      "1020/1020 [==============================] - 29s 29ms/sample - loss: 0.0027 - accuracy: 1.0000 - val_loss: 2.2610 - val_accuracy: 0.5765\n",
      "Epoch 32/50\n",
      "1020/1020 [==============================] - 30s 29ms/sample - loss: 0.0024 - accuracy: 1.0000 - val_loss: 2.2841 - val_accuracy: 0.5706\n",
      "Epoch 33/50\n",
      "1020/1020 [==============================] - 32s 31ms/sample - loss: 0.0022 - accuracy: 1.0000 - val_loss: 2.3041 - val_accuracy: 0.5706\n",
      "Epoch 34/50\n",
      "1020/1020 [==============================] - 30s 29ms/sample - loss: 0.0019 - accuracy: 1.0000 - val_loss: 2.3329 - val_accuracy: 0.5794\n",
      "Epoch 35/50\n",
      "1020/1020 [==============================] - 29s 29ms/sample - loss: 0.0018 - accuracy: 1.0000 - val_loss: 2.3493 - val_accuracy: 0.5706\n",
      "Epoch 36/50\n",
      "1020/1020 [==============================] - 29s 29ms/sample - loss: 0.0017 - accuracy: 1.0000 - val_loss: 2.3781 - val_accuracy: 0.5706\n",
      "Epoch 37/50\n",
      "1020/1020 [==============================] - 29s 29ms/sample - loss: 0.0016 - accuracy: 1.0000 - val_loss: 2.3890 - val_accuracy: 0.5735\n",
      "Epoch 38/50\n",
      "1020/1020 [==============================] - 29s 29ms/sample - loss: 0.0014 - accuracy: 1.0000 - val_loss: 2.4106 - val_accuracy: 0.5735\n",
      "Epoch 39/50\n",
      "1020/1020 [==============================] - 29s 29ms/sample - loss: 0.0014 - accuracy: 1.0000 - val_loss: 2.4188 - val_accuracy: 0.5765\n",
      "Epoch 40/50\n",
      "1020/1020 [==============================] - 29s 29ms/sample - loss: 0.0013 - accuracy: 1.0000 - val_loss: 2.4375 - val_accuracy: 0.5706\n",
      "Epoch 41/50\n",
      "1020/1020 [==============================] - 29s 28ms/sample - loss: 0.0012 - accuracy: 1.0000 - val_loss: 2.4597 - val_accuracy: 0.5735\n",
      "Epoch 42/50\n",
      "1020/1020 [==============================] - 29s 29ms/sample - loss: 0.0012 - accuracy: 1.0000 - val_loss: 2.4672 - val_accuracy: 0.5765\n",
      "Epoch 43/50\n",
      "1020/1020 [==============================] - 33s 33ms/sample - loss: 0.0011 - accuracy: 1.0000 - val_loss: 2.4868 - val_accuracy: 0.5735\n",
      "Epoch 44/50\n",
      "1020/1020 [==============================] - 29s 28ms/sample - loss: 0.0010 - accuracy: 1.0000 - val_loss: 2.4981 - val_accuracy: 0.5706\n",
      "Epoch 45/50\n",
      "1020/1020 [==============================] - 29s 29ms/sample - loss: 9.9039e-04 - accuracy: 1.0000 - val_loss: 2.5194 - val_accuracy: 0.5676\n",
      "Epoch 46/50\n",
      "1020/1020 [==============================] - 29s 29ms/sample - loss: 9.4774e-04 - accuracy: 1.0000 - val_loss: 2.5278 - val_accuracy: 0.5706\n",
      "Epoch 47/50\n",
      "1020/1020 [==============================] - 30s 29ms/sample - loss: 9.0769e-04 - accuracy: 1.0000 - val_loss: 2.5382 - val_accuracy: 0.5735\n",
      "Epoch 48/50\n",
      "1020/1020 [==============================] - 30s 29ms/sample - loss: 8.6848e-04 - accuracy: 1.0000 - val_loss: 2.5505 - val_accuracy: 0.5765\n",
      "Epoch 49/50\n",
      "1020/1020 [==============================] - 29s 29ms/sample - loss: 8.3337e-04 - accuracy: 1.0000 - val_loss: 2.5562 - val_accuracy: 0.5735\n",
      "Epoch 50/50\n",
      "1020/1020 [==============================] - 29s 29ms/sample - loss: 8.0413e-04 - accuracy: 1.0000 - val_loss: 2.5694 - val_accuracy: 0.5735\n",
      "340/340 [==============================] - 5s 16ms/sample - loss: 2.5694 - accuracy: 0.5735\n",
      "Test Data Loss: 2.5694 and Accuracy: 57.35%\n"
     ]
    },
    {
     "data": {
      "image/png": "[encoded data removed]",
      "text/plain": [
       "<Figure size 432x288 with 1 Axes>"
      ]
     },
     "metadata": {},
     "output_type": "display_data"
    }
   ],
   "source": [
    "my_CNN = CNN()\n",
    "my_CNN.train(trainX, trainY, testX, testY)"
   ]
  }
 ],
 "metadata": {
  "accelerator": "GPU",
  "colab": {
   "collapsed_sections": [],
   "name": "PartA.ipynb",
   "provenance": []
  },
  "kernelspec": {
   "display_name": "Python 3",
   "language": "python",
   "name": "python3"
  },
  "language_info": {
   "codemirror_mode": {
    "name": "ipython",
    "version": 3
   },
   "file_extension": ".py",
   "mimetype": "text/x-python",
   "name": "python",
   "nbconvert_exporter": "python",
   "pygments_lexer": "ipython3",
   "version": "3.7.7"
  }
 },
 "nbformat": 4,
 "nbformat_minor": 1
}
